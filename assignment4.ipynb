{
 "cells": [
  {
   "cell_type": "code",
   "execution_count": 1,
   "metadata": {},
   "outputs": [],
   "source": [
    "# Exercise 3-1: Names\n",
    "# Store the names of a few of your friends in a list called names. Print each person’s name by accessing each element in the list, one at a time.\n",
    "\n"
   ]
  },
  {
   "cell_type": "code",
   "execution_count": 26,
   "metadata": {},
   "outputs": [
    {
     "name": "stdout",
     "output_type": "stream",
     "text": [
      "first friend name:ali\n",
      "2nd friend name:ahmad\n",
      "3rd friend name:hussanain\n"
     ]
    }
   ],
   "source": [
    "name=input(\"Enter the name of your friends\")\n",
    "friens_name=name.split(\",\")\n",
    "print(f\"first friend name:{friens_name[0]}\") \n",
    "print(f\"2nd friend name:{friens_name[1]}\")\n",
    "print(f\"3rd friend name:{friens_name[-1]}\")"
   ]
  },
  {
   "cell_type": "code",
   "execution_count": null,
   "metadata": {},
   "outputs": [],
   "source": [
    "# Exercise 3-2: Greetings\n",
    "# Start with the list you used in Exercise 3-1, but instead of just printing each person’s name, print a message to them. The text of each message should be the same, but each message should be personalized with the person’s name.\n",
    "\n",
    "\n"
   ]
  },
  {
   "cell_type": "code",
   "execution_count": 27,
   "metadata": {},
   "outputs": [
    {
     "name": "stdout",
     "output_type": "stream",
     "text": [
      "Assalam-o-alakam! how are you? ali\n",
      "Assalam-o-alakam! how are you? ahmad\n",
      "Assalam-o-alakam! how are you? hussanain\n"
     ]
    }
   ],
   "source": [
    "print(f\"Assalam-o-alakam! how are you? {friens_name[0]}\")\n",
    "print(f\"Assalam-o-alakam! how are you? {friens_name[1]}\")\n",
    "print(f\"Assalam-o-alakam! how are you? {friens_name[-1]}\")"
   ]
  },
  {
   "cell_type": "code",
   "execution_count": null,
   "metadata": {},
   "outputs": [],
   "source": [
    "# Exercise 3-3: Your Own List\n",
    "# Think of your favorite mode of transportation, such as a motorcycle or a car, and make a list that stores several examples. Use your list to print a series of statements about these items, such as “I would like to own a Honda motorcycle.”\n"
   ]
  },
  {
   "cell_type": "code",
   "execution_count": 28,
   "metadata": {},
   "outputs": [
    {
     "name": "stdout",
     "output_type": "stream",
     "text": [
      "I would like to own a Honda ali.\n",
      "I would lile to own sehrab ahmad.\n",
      "I would like to on civic hussnain.\n"
     ]
    }
   ],
   "source": [
    "fav_transpotation=input(\"Enter your favorite transpotation name\")\n",
    "fav_list=fav_transpotation.split(\",\")\n",
    "print(f\"I would like to own a Honda {fav_list[0]}.\")\n",
    "print(f\"I would lile to own sehrab {fav_list[1]}.\")\n",
    "print(f\"I would like to on civic {fav_list[-1]}.\")"
   ]
  },
  {
   "cell_type": "code",
   "execution_count": null,
   "metadata": {},
   "outputs": [],
   "source": [
    "# Exercise 3-4: Guest List\n",
    "# If you could invite anyone, living or deceased, to dinner, who would you invite? Make a list that includes at least three people you’d like to invite to dinner. Then use your list to print a message to each person, inviting them to dinner.\n",
    "\n"
   ]
  },
  {
   "cell_type": "code",
   "execution_count": 29,
   "metadata": {},
   "outputs": [
    {
     "name": "stdout",
     "output_type": "stream",
     "text": [
      "Dear ali, I would like to invite you to dinner at my place.\n",
      "Dear ahmad, I would like to invite you to dinner at my place.\n",
      "Dear,hussnain I would like to invite you to dinner at my place.\n"
     ]
    }
   ],
   "source": [
    "fav_guest=input(\"Enter your favorite guest name\")\n",
    "fav_list=fav_guest.split(\",\")\n",
    "print(f\"Dear {fav_list[0]}, I would like to invite you to dinner at my place.\")\n",
    "print(f\"Dear {fav_list[1]}, I would like to invite you to dinner at my place.\")\n",
    "print(f\"Dear,{fav_list[-1]} I would like to invite you to dinner at my place.\")\n"
   ]
  },
  {
   "cell_type": "code",
   "execution_count": null,
   "metadata": {},
   "outputs": [],
   "source": [
    "# Exercise 3-5: Changing Guest List\n",
    "# You just heard that one of your guests can’t make the dinner, so you need to send out a new set of invitations.\n",
    "#Start with your program from Exercise 3-4. Add a print() call at the end of your program, stating the name of the guest who can’t make it.\n",
    "#Modify your list, replacing the name of the guest who can’t make it with the name of the new person you are inviting.\n",
    "#Print a second set of invitation messages, one for each person who is still in your list.\n"
   ]
  },
  {
   "cell_type": "code",
   "execution_count": 30,
   "metadata": {},
   "outputs": [
    {
     "name": "stdout",
     "output_type": "stream",
     "text": [
      "['ali', 'ahmad', 'hussnain']\n",
      "Unfortunality!,hussnain can not make the dinner.\n",
      "['ali', 'ahmad', 'Adnan']\n",
      "Dear,ali I would like to invite you dinner\n",
      "Dear,ahmad I would like to invite you dinner\n",
      "Dear,Adnan I would like to invite you dinner\n"
     ]
    }
   ],
   "source": [
    "print(fav_list)\n",
    "print(f\"Unfortunality!,{fav_list[-1]} can not make the dinner.\")\n",
    "fav_list[-1]=\"Adnan\"\n",
    "print(fav_list)\n",
    "print(f\"Dear,{fav_list[0]} I would like to invite you dinner\")\n",
    "print(f\"Dear,{fav_list[1]} I would like to invite you dinner\")\n",
    "print(f\"Dear,{fav_list[-1]} I would like to invite you dinner\")"
   ]
  },
  {
   "cell_type": "code",
   "execution_count": null,
   "metadata": {},
   "outputs": [],
   "source": [
    "# Exercise 3-6: More Guests\n",
    "#You just found a bigger dinner table, so now more space is available. Think of three more guests to invite to dinner.\n",
    "#Start with your program from Exercise 3-4 or 3-5. Add a print() call to the end of your program, informing people that you found a bigger table.\n",
    "#Use insert() to add one new guest to the beginning of your list.\n",
    "#Use insert() to add one new guest to the middle of your list.\n",
    "#Use append() to add one new guest to the end of your list.\n",
    "#Print a new set of invitation messages, one for each person in your list.\n"
   ]
  },
  {
   "cell_type": "code",
   "execution_count": 31,
   "metadata": {},
   "outputs": [
    {
     "name": "stdout",
     "output_type": "stream",
     "text": [
      "['ali', 'ahmad', 'Adnan']\n",
      "Dear,ali I would like to invite you dinner.\n",
      "Dear,ahmad I would like to invite you dinner.\n",
      "Dear,Adnan I would like to invite you dinner.\n",
      "Unfortunality,Adnan can not make the dinner.\n",
      "['ali', 'ahmad', 'Tauqeer']\n",
      "Good news! I found a bigger table,so we can invite more guests!\n",
      "['Umer', 'ali', 'Sana Ullah', 'ahmad', 'Tauqeer', 'Abdullah']\n",
      "Dear Umer, I would like to invite you to dinner at my place.\n",
      "Dear ali, I would like to invite you to dinner at my place.\n",
      "Dear Sana Ullah, I would like to invite you to dinner at my place.\n",
      "Dear Abdullah, I would like to invite you to dinner at my place.\n"
     ]
    }
   ],
   "source": [
    "print(fav_list)\n",
    "print(f\"Dear,{fav_list[0]} I would like to invite you dinner.\")\n",
    "print(f\"Dear,{fav_list[1]} I would like to invite you dinner.\")\n",
    "print(f\"Dear,{fav_list[-1]} I would like to invite you dinner.\")\n",
    "print(f\"Unfortunality,{fav_list[-1]} can not make the dinner.\")\n",
    "fav_list[-1]=\"Tauqeer\"\n",
    "print(fav_list)\n",
    "print(\"Good news! I found a bigger table,so we can invite more guests!\")\n",
    "fav_list.insert(0,\"Umer\")\n",
    "fav_list.insert(2,\"Sana Ullah\")\n",
    "fav_list.append(\"Abdullah\")\n",
    "print(fav_list)\n",
    "print(f\"Dear {fav_list[0]}, I would like to invite you to dinner at my place.\")\n",
    "print(f\"Dear {fav_list[1]}, I would like to invite you to dinner at my place.\")\n",
    "print(f\"Dear {fav_list[2]}, I would like to invite you to dinner at my place.\")\n",
    "print(f\"Dear {fav_list[-1]}, I would like to invite you to dinner at my place.\")\n"
   ]
  },
  {
   "cell_type": "code",
   "execution_count": null,
   "metadata": {},
   "outputs": [],
   "source": [
    "# Exercise 3-7: Shrinking Guest List\n",
    "#You just found out that your new dinner table won’t arrive in time for the dinner, and now you have space for only two guests.\n",
    "#Start with your program from Exercise 3-6. Add a new line that prints a message saying that you can invite only two people for dinner.\n",
    "#Use pop() to remove guests from your list one at a time until only two names remain in your list. Each time you pop a name from your list, print a message to that person letting them know you’re sorry you can’t invite them to dinner.\n",
    "#Print a message to each of the two people still on your list, letting them know they’re still invited.\n",
    "#Use del to remove the last two names from your list, so you have an empty list. Print your list to make sure you actually have an empty list at the end of your program.\n"
   ]
  },
  {
   "cell_type": "code",
   "execution_count": 32,
   "metadata": {},
   "outputs": [
    {
     "name": "stdout",
     "output_type": "stream",
     "text": [
      "['Umer', 'ali', 'Sana Ullah', 'ahmad', 'Tauqeer', 'Abdullah']\n",
      "Sorry Umer my dinner table will late.So you did not come on dinner.\n",
      "Sorry ali my dinner table will late.So you did not come on dinner.\n",
      "Sorry Sana Ullah my dinner table will late.So you did not come on dinner.\n",
      "Sorry Abdullah my dinner table will late.So you did not come on dinner.\n",
      "['ali', 'ahmad']\n",
      "Dear, ali I would invite you to dinner at my place.\n",
      "Dear, ahmad I would invite you to dinner at my place.\n",
      "['ali', 'ahmad']\n",
      "[]\n"
     ]
    }
   ],
   "source": [
    "print(fav_list)\n",
    "print(f\"Sorry {fav_list[0]} my dinner table will late.So you did not come on dinner.\")\n",
    "print(f\"Sorry {fav_list[1]} my dinner table will late.So you did not come on dinner.\")\n",
    "print(f\"Sorry {fav_list[2]} my dinner table will late.So you did not come on dinner.\")\n",
    "print(f\"Sorry {fav_list[-1]} my dinner table will late.So you did not come on dinner.\")\n",
    "fav_list.pop(0)\n",
    "fav_list.pop(1)\n",
    "fav_list.pop(2)\n",
    "fav_list.pop(-1)\n",
    "print(fav_list)\n",
    "print(f\"Dear, {fav_list[0]} I would invite you to dinner at my place.\")\n",
    "print(f\"Dear, {fav_list[-1]} I would invite you to dinner at my place.\")\n",
    "print(fav_list)\n",
    "fav_list.remove(\"ali\")\n",
    "fav_list.remove(\"ahmad\")\n",
    "print(fav_list)\n",
    "\n"
   ]
  },
  {
   "cell_type": "code",
   "execution_count": null,
   "metadata": {},
   "outputs": [],
   "source": [
    "# Exercise 3-8: Seeing the World\n",
    "#Think of at least five places in the world you’d like to visit.\n",
    "#Store the locations in a list. Make sure the list is not in alphabetical order.\n",
    "#Print your list in its original order. Don’t worry about printing the list neatly; just print it as a raw Python list.\n",
    "#Use sorted() to print your list in alphabetical order without modifying the actual list.\n",
    "#Show that your list is still in its original order by printing it.\n",
    "#Use sorted() to print your list in reverse-alphabetical order without changing the order of the original list.\n",
    "#Show that your list is still in its original order by printing it again.\n",
    "#Use reverse() to change the order of your list. Print the list to show that its order has changed.\n",
    "#Use reverse() to change the order of your list again. Print the list to show it’s back to its original order.\n",
    "#Use sort() to change your list so it’s stored in alphabetical order. Print the list to show that its order has been changed.\n",
    "#Use sort() to change your list so it’s stored in reverse-alphabetical order. Print the list to show that its order has changed."
   ]
  },
  {
   "cell_type": "code",
   "execution_count": null,
   "metadata": {},
   "outputs": [],
   "source": [
    "# Exercise 3-9: Dinner Guests\n",
    "#Working with one of the programs from Exercises 3-4 through 3-7, use len() to print a message indicating the number of people you’re inviting to dinner.\n",
    "\n"
   ]
  },
  {
   "cell_type": "code",
   "execution_count": null,
   "metadata": {},
   "outputs": [],
   "source": [
    "# Exercise 3-10: Every Function\n",
    "#Think of things you could store in a list. For example, you could make a list of mountains, rivers, countries, cities, languages, or anything else you’d like. Write a program that creates a list containing these items and then uses each function introduced in this chapter at least once."
   ]
  },
  {
   "cell_type": "code",
   "execution_count": null,
   "metadata": {},
   "outputs": [],
   "source": [
    "# Exercise 3-11: Intentional Error\n",
    "#If you haven’t received an index error in one of your programs yet, try to make one happen. Change an index in one of your programs to produce an index error. Make sure you correct the error before closing the program.\n",
    "\n"
   ]
  }
 ],
 "metadata": {
  "kernelspec": {
   "display_name": "Python 3",
   "language": "python",
   "name": "python3"
  },
  "language_info": {
   "codemirror_mode": {
    "name": "ipython",
    "version": 3
   },
   "file_extension": ".py",
   "mimetype": "text/x-python",
   "name": "python",
   "nbconvert_exporter": "python",
   "pygments_lexer": "ipython3",
   "version": "3.13.1"
  }
 },
 "nbformat": 4,
 "nbformat_minor": 2
}
