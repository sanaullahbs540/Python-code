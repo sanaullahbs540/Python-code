{
 "cells": [
  {
   "cell_type": "code",
   "execution_count": null,
   "metadata": {},
   "outputs": [
    {
     "name": "stdout",
     "output_type": "stream",
     "text": [
      "Hello, sana ullah ! welcome the python assignment.\n",
      "My name in uppercase is SANA ULLAH.\n",
      "My name in lowercase: sana ullah\n",
      "replace spaces by hyphens:sana-ullah\n",
      "Length of name:10\n"
     ]
    }
   ],
   "source": [
    "# Taking input from user\n",
    "name =input(\"Enter your name\")\n",
    "print(f\"Hello, {name} ! welcome the python assignment.\")\n",
    "name=name.upper()\n",
    "print(f\"My name in uppercase is {name}.\")\n",
    "name=name.lower()\n",
    "print(f\"My name in lowercase: {name}\")\n",
    "name=name.replace(\" \",\"-\")\n",
    "print(f\"replace spaces by hyphens:{name}\")\n",
    "name=len(name)\n",
    "print(f\"Length of name:{name}\")\n",
    "\n",
    "\n"
   ]
  },
  {
   "cell_type": "code",
   "execution_count": 63,
   "metadata": {},
   "outputs": [
    {
     "name": "stdout",
     "output_type": "stream",
     "text": [
      "Your fruits list: ['apple', 'banana', 'cheery']\n",
      "first fruit is apple\n",
      "first fruit is banana\n",
      "first fruit is cheery\n",
      "['apple', 'banana', 'cheery', 'mangoes']\n",
      "['apple', 'banana', 'cheery']\n",
      "No. of fruit list 3\n"
     ]
    }
   ],
   "source": [
    "fav_fruits=input(\"Enter your favorite fruits\")\n",
    "fruits_list=fav_fruits.split(\",\")\n",
    "print(f\"Your fruits list: {fruits_list}\")\n",
    "print(\"first fruit is\",fruits_list[0])\n",
    "print(\"first fruit is\",fruits_list[1])\n",
    "print(\"first fruit is\",fruits_list[-1])\n",
    "new_fruit=input(\"Enter your fruit:\")\n",
    "fruits_list.append(new_fruit)\n",
    "print(fruits_list)\n",
    "fruits_list.remove(new_fruit)\n",
    "print(fruits_list)\n",
    "fruits_list=len(fruits_list)\n",
    "print(f\"No. of fruit list {fruits_list}\")\n"
   ]
  },
  {
   "cell_type": "code",
   "execution_count": 54,
   "metadata": {},
   "outputs": [
    {
     "name": "stdout",
     "output_type": "stream",
     "text": [
      "My age is 27.\n"
     ]
    }
   ],
   "source": [
    "b_year=int(input(\"Enter Your b_year\"))\n",
    "age=2025-b_year\n",
    "print(f\"My age is {age}.\")"
   ]
  }
 ],
 "metadata": {
  "kernelspec": {
   "display_name": "Python 3",
   "language": "python",
   "name": "python3"
  },
  "language_info": {
   "codemirror_mode": {
    "name": "ipython",
    "version": 3
   },
   "file_extension": ".py",
   "mimetype": "text/x-python",
   "name": "python",
   "nbconvert_exporter": "python",
   "pygments_lexer": "ipython3",
   "version": "3.13.1"
  }
 },
 "nbformat": 4,
 "nbformat_minor": 2
}
