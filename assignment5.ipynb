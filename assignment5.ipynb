{
 "cells": [
  {
   "cell_type": "code",
   "execution_count": 28,
   "metadata": {},
   "outputs": [
    {
     "name": "stdout",
     "output_type": "stream",
     "text": [
      "Ticket price:Free\n"
     ]
    }
   ],
   "source": [
    "age=int(input(\"Enter Your Age\"))\n",
    "if (age<5):\n",
    "    print(\"Ticket price:Free\")\n",
    "elif   (age>=5 and age<=17):\n",
    "    print(\"Ticket price:$10\")\n",
    "elif 18<= age <=60:\n",
    "    print(\"Ticket price:$20\")\n",
    "else:\n",
    "    print(\"Ticket price:$15\")"
   ]
  },
  {
   "cell_type": "code",
   "execution_count": 29,
   "metadata": {},
   "outputs": [
    {
     "name": "stdout",
     "output_type": "stream",
     "text": [
      "Ticket price:$10\n"
     ]
    }
   ],
   "source": [
    "age=int(input(\"Enter Your Age\"))\n",
    "if (age<5):\n",
    "    print(\"Ticket price:Free\")\n",
    "elif   (age>=5 and age<=17):\n",
    "    print(\"Ticket price:$10\")\n",
    "elif 18<= age <=60:\n",
    "    print(\"Ticket price:$20\")\n",
    "else:\n",
    "    print(\"Ticket price:$15\")"
   ]
  },
  {
   "cell_type": "code",
   "execution_count": 30,
   "metadata": {},
   "outputs": [
    {
     "name": "stdout",
     "output_type": "stream",
     "text": [
      "Ticket price:$20\n"
     ]
    }
   ],
   "source": [
    "age=int(input(\"Enter Your Age\"))\n",
    "if (age<5):\n",
    "    print(\"Ticket price:Free\")\n",
    "elif   (age>=5 and age<=17):\n",
    "    print(\"Ticket price:$10\")\n",
    "elif 18<= age <=60:\n",
    "    print(\"Ticket price:$20\")\n",
    "else:\n",
    "    print(\"Ticket price:$15\")"
   ]
  },
  {
   "cell_type": "code",
   "execution_count": 31,
   "metadata": {},
   "outputs": [
    {
     "name": "stdout",
     "output_type": "stream",
     "text": [
      "Ticket price:$15\n"
     ]
    }
   ],
   "source": [
    "age=int(input(\"Enter Your Age\"))\n",
    "if (age<5):\n",
    "    print(\"Ticket price:Free\")\n",
    "elif   (age>=5 and age<=17):\n",
    "    print(\"Ticket price:$10\")\n",
    "elif 18<= age <=60:\n",
    "    print(\"Ticket price:$20\")\n",
    "else:\n",
    "    print(\"Ticket price:$15\")"
   ]
  }
 ],
 "metadata": {
  "kernelspec": {
   "display_name": "Python 3",
   "language": "python",
   "name": "python3"
  },
  "language_info": {
   "codemirror_mode": {
    "name": "ipython",
    "version": 3
   },
   "file_extension": ".py",
   "mimetype": "text/x-python",
   "name": "python",
   "nbconvert_exporter": "python",
   "pygments_lexer": "ipython3",
   "version": "3.13.1"
  }
 },
 "nbformat": 4,
 "nbformat_minor": 2
}
