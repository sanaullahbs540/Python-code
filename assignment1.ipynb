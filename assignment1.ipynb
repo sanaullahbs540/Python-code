{
 "cells": [
  {
   "cell_type": "code",
   "execution_count": 4,
   "metadata": {},
   "outputs": [
    {
     "name": "stdout",
     "output_type": "stream",
     "text": [
      "Sana Ullah\n"
     ]
    }
   ],
   "source": [
    "name :str=\"Sana Ullah\"\n",
    "\n",
    "print(name)"
   ]
  },
  {
   "cell_type": "code",
   "execution_count": 39,
   "metadata": {},
   "outputs": [
    {
     "name": "stdout",
     "output_type": "stream",
     "text": [
      "Banana\n",
      "Apple\n",
      "Cheery\n",
      "Mangoes\n",
      "banana\n",
      "apple\n",
      "cheery\n",
      "mangoes\n",
      "BANANA\n",
      "apple\n",
      "My first favorite fruit is Banana.\n",
      "My second favorite fruit is Apple.\n",
      "My third favorite fruit is Cheery.\n",
      "My fourth favorite fruit is Mangoes. My first favorie fruit is Banana.\n",
      "['banana', 'almond', 'cheery', 'mangoes']\n",
      "['banana', 'almond', 'cheery', 'mangoes', 'apple']\n",
      "[]\n",
      "['banana', 'apple', 'cheery', 'mangoes']\n",
      "['banana', 'apple', 'cheery', 'mangoes']\n",
      "['apple', 'banana', 'apple', 'cheery', 'mangoes']\n"
     ]
    }
   ],
   "source": [
    "fruits : list=[\"banana\",\"apple\",\"cheery\",\"mangoes\"]\n",
    "print(fruits[0].title())\n",
    "print(fruits[1].title())\n",
    "print(fruits[2].title())\n",
    "print(fruits[3].title())\n",
    "print(fruits[0])\n",
    "print(fruits[-3])\n",
    "print(fruits[2])\n",
    "print(fruits[-1])\n",
    "print(fruits[0].upper())\n",
    "print(fruits[1].lower())\n",
    "print(f\"My first favorite fruit is {fruits[0].title()}.\")\n",
    "print(f\"My second favorite fruit is {fruits[-3].title()}.\")\n",
    "print(f\"My third favorite fruit is {fruits[2].title()}.\")   \n",
    "print(f\"My fourth favorite fruit is {fruits[-1].title()}. My first favorie fruit is {fruits[-4].title()}.\") \n",
    "fruits[1]=\"almond\"\n",
    "print(fruits)\n",
    "fruits.append(\"apple\")\n",
    "print(fruits)\n",
    "fruits=[]\n",
    "print(fruits)\n",
    "fruits.append(\"banana\")\n",
    "fruits.append(\"apple\")\n",
    "fruits.append(\"cheery\")\n",
    "fruits.append(\"mangoes\")\n",
    "print(fruits)\n",
    "print(fruits)\n",
    "fruits.insert(0,\"apple\")\n",
    "print(fruits)"
   ]
  },
  {
   "cell_type": "markdown",
   "metadata": {},
   "source": []
  },
  {
   "cell_type": "markdown",
   "metadata": {},
   "source": []
  },
  {
   "cell_type": "code",
   "execution_count": null,
   "metadata": {},
   "outputs": [],
   "source": []
  }
 ],
 "metadata": {
  "kernelspec": {
   "display_name": "Python 3",
   "language": "python",
   "name": "python3"
  },
  "language_info": {
   "codemirror_mode": {
    "name": "ipython",
    "version": 3
   },
   "file_extension": ".py",
   "mimetype": "text/x-python",
   "name": "python",
   "nbconvert_exporter": "python",
   "pygments_lexer": "ipython3",
   "version": "3.13.1"
  }
 },
 "nbformat": 4,
 "nbformat_minor": 2
}
